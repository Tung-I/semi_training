{
 "cells": [
  {
   "cell_type": "code",
   "execution_count": 2,
   "metadata": {},
   "outputs": [],
   "source": [
    "import csv\n",
    "import glob\n",
    "import torch\n",
    "import numpy as np\n",
    "import nibabel as nib\n",
    "from pathlib import Path"
   ]
  },
  {
   "cell_type": "code",
   "execution_count": 3,
   "metadata": {},
   "outputs": [
    {
     "data": {
      "text/plain": [
       "[PosixPath('/home/tony/Documents/cell_data/HE/TCGA-HE-7128-01Z-00-DX1'),\n",
       " PosixPath('/home/tony/Documents/cell_data/HE/TCGA-NH-A8F7-01A-01-TS1'),\n",
       " PosixPath('/home/tony/Documents/cell_data/HE/TCGA-HE-7130-01Z-00-DX1'),\n",
       " PosixPath('/home/tony/Documents/cell_data/HE/TCGA-E2-A1B5-01Z-00-DX1'),\n",
       " PosixPath('/home/tony/Documents/cell_data/HE/TCGA-G9-6356-01Z-00-DX1'),\n",
       " PosixPath('/home/tony/Documents/cell_data/HE/TCGA-49-4488-01Z-00-DX1'),\n",
       " PosixPath('/home/tony/Documents/cell_data/HE/TCGA-21-5786-01Z-00-DX1'),\n",
       " PosixPath('/home/tony/Documents/cell_data/HE/TCGA-AY-A8YK-01A-01-TS1'),\n",
       " PosixPath('/home/tony/Documents/cell_data/HE/TCGA-B0-5710-01Z-00-DX1'),\n",
       " PosixPath('/home/tony/Documents/cell_data/HE/TCGA-18-5592-01Z-00-DX1'),\n",
       " PosixPath('/home/tony/Documents/cell_data/HE/TCGA-A7-A13F-01Z-00-DX1'),\n",
       " PosixPath('/home/tony/Documents/cell_data/HE/TCGA-AR-A1AS-01Z-00-DX1'),\n",
       " PosixPath('/home/tony/Documents/cell_data/HE/TCGA-B0-5698-01Z-00-DX1'),\n",
       " PosixPath('/home/tony/Documents/cell_data/HE/TCGA-21-5784-01Z-00-DX1'),\n",
       " PosixPath('/home/tony/Documents/cell_data/HE/TCGA-G9-6348-01Z-00-DX1'),\n",
       " PosixPath('/home/tony/Documents/cell_data/HE/TCGA-AR-A1AK-01Z-00-DX1'),\n",
       " PosixPath('/home/tony/Documents/cell_data/HE/TCGA-CH-5767-01Z-00-DX1'),\n",
       " PosixPath('/home/tony/Documents/cell_data/HE/TCGA-RD-A8N9-01A-01-TS1'),\n",
       " PosixPath('/home/tony/Documents/cell_data/HE/TCGA-E2-A14V-01Z-00-DX1'),\n",
       " PosixPath('/home/tony/Documents/cell_data/HE/TCGA-38-6178-01Z-00-DX1'),\n",
       " PosixPath('/home/tony/Documents/cell_data/HE/TCGA-A7-A13E-01Z-00-DX1'),\n",
       " PosixPath('/home/tony/Documents/cell_data/HE/TCGA-KB-A93J-01A-01-TS1'),\n",
       " PosixPath('/home/tony/Documents/cell_data/HE/TCGA-G2-A2EK-01A-02-TSB'),\n",
       " PosixPath('/home/tony/Documents/cell_data/HE/TCGA-50-5931-01Z-00-DX1'),\n",
       " PosixPath('/home/tony/Documents/cell_data/HE/TCGA-G9-6362-01Z-00-DX1'),\n",
       " PosixPath('/home/tony/Documents/cell_data/HE/TCGA-G9-6336-01Z-00-DX1'),\n",
       " PosixPath('/home/tony/Documents/cell_data/HE/TCGA-B0-5711-01Z-00-DX1'),\n",
       " PosixPath('/home/tony/Documents/cell_data/HE/TCGA-HE-7129-01Z-00-DX1'),\n",
       " PosixPath('/home/tony/Documents/cell_data/HE/TCGA-G9-6363-01Z-00-DX1'),\n",
       " PosixPath('/home/tony/Documents/cell_data/HE/TCGA-DK-A2I6-01A-01-TS1')]"
      ]
     },
     "execution_count": 3,
     "metadata": {},
     "output_type": "execute_result"
    }
   ],
   "source": [
    "data_dir = Path('/home/tony/Documents/cell_data/HE')\n",
    "paths = [path for path in data_dir.iterdir() if path.is_dir()]\n",
    "paths"
   ]
  },
  {
   "cell_type": "code",
   "execution_count": null,
   "metadata": {},
   "outputs": [],
   "source": []
  }
 ],
 "metadata": {
  "kernelspec": {
   "display_name": "thetorch",
   "language": "python",
   "name": "thetorch"
  },
  "language_info": {
   "codemirror_mode": {
    "name": "ipython",
    "version": 3
   },
   "file_extension": ".py",
   "mimetype": "text/x-python",
   "name": "python",
   "nbconvert_exporter": "python",
   "pygments_lexer": "ipython3",
   "version": "3.7.3"
  }
 },
 "nbformat": 4,
 "nbformat_minor": 2
}
